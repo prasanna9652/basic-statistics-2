{
  "nbformat": 4,
  "nbformat_minor": 0,
  "metadata": {
    "colab": {
      "provenance": []
    },
    "kernelspec": {
      "name": "python3",
      "display_name": "Python 3"
    },
    "language_info": {
      "name": "python"
    }
  },
  "cells": [
    {
      "cell_type": "markdown",
      "source": [
        "Breakdown and Python Code"
      ],
      "metadata": {
        "id": "_Eatq9vKSION"
      }
    },
    {
      "cell_type": "code",
      "source": [
        "# Durability of print-heads in number of characters until failure\n",
        "data = [1.13, 1.55, 1.43, 0.92, 1.55, 1.36, 1.32, 0.85, 1.07, 1.48, 1.29, 1.33, 1.58, 1.22, 1.29]\n"
      ],
      "metadata": {
        "id": "fSDH1oNmTiEv"
      },
      "execution_count": null,
      "outputs": []
    },
    {
      "cell_type": "markdown",
      "source": [
        "90% Confidence Interval Using Sample Standard Deviation\n",
        "\n",
        "Use the t-distribution since the population standard deviation is unknown\n"
      ],
      "metadata": {
        "id": "2e4dM8-QT0_v"
      }
    },
    {
      "cell_type": "code",
      "source": [
        "import numpy as np\n",
        "import scipy.stats as stats\n"
      ],
      "metadata": {
        "id": "9f1W47ZtUGgp"
      },
      "execution_count": 9,
      "outputs": []
    },
    {
      "cell_type": "code",
      "source": [
        "# Data\n",
        "data = [1.13, 1.55, 1.43, 0.92, 1.55, 1.36, 1.32, 0.85, 1.07, 1.48, 1.29, 1.33, 1.58, 1.22, 1.29]\n",
        "n = len(data)\n",
        "mean = np.mean(data)\n",
        "std_dev = np.std(data, ddof=1)  # Sample standard deviation\n"
      ],
      "metadata": {
        "id": "z3oTtuWvULsM"
      },
      "execution_count": 10,
      "outputs": []
    },
    {
      "cell_type": "code",
      "source": [
        "# t-critical value for 90% CI and df = n-1\n",
        "confidence = 0.90\n",
        "alpha = 1 - confidence\n",
        "t_critical = stats.t.ppf(1 - alpha/2, df=n-1)\n"
      ],
      "metadata": {
        "id": "Wnmm5F-iT13v"
      },
      "execution_count": 11,
      "outputs": []
    },
    {
      "cell_type": "code",
      "source": [
        "# Margin of error\n",
        "margin_error = t_critical * (std_dev / np.sqrt(n))\n"
      ],
      "metadata": {
        "id": "N_q7ZeYuUTq9"
      },
      "execution_count": 12,
      "outputs": []
    },
    {
      "cell_type": "code",
      "source": [
        "# Confidence interval\n",
        "ci_lower = mean - margin_error\n",
        "ci_upper = mean + margin_error\n"
      ],
      "metadata": {
        "id": "zdmUUtqSUXTg"
      },
      "execution_count": 13,
      "outputs": []
    },
    {
      "cell_type": "code",
      "source": [
        "print(f\"90% CI using sample std dev: ({ci_lower:.4f}, {ci_upper:.4f})\")\n"
      ],
      "metadata": {
        "colab": {
          "base_uri": "https://localhost:8080/"
        },
        "id": "Y-oRHrHeUcwX",
        "outputId": "b69c0681-9dd1-4c1f-e6b8-7a4707fecb62"
      },
      "execution_count": 14,
      "outputs": [
        {
          "output_type": "stream",
          "name": "stdout",
          "text": [
            "90% CI using sample std dev: (1.1902, 1.3924)\n"
          ]
        }
      ]
    },
    {
      "cell_type": "code",
      "source": [],
      "metadata": {
        "id": "P7XIqguRUg3X"
      },
      "execution_count": null,
      "outputs": []
    },
    {
      "cell_type": "markdown",
      "source": [
        "\n",
        "90% Confidence Interval Using Population Standard Deviation\n",
        "\n",
        "Population σ = 0.20 → Use z-distribution"
      ],
      "metadata": {
        "id": "UvLv5gqtUkJp"
      }
    },
    {
      "cell_type": "code",
      "source": [
        "# Known population standard deviation\n",
        "pop_std_dev = 0.20\n"
      ],
      "metadata": {
        "id": "BSUPqXKoUw4_"
      },
      "execution_count": 15,
      "outputs": []
    },
    {
      "cell_type": "code",
      "source": [
        "# z-critical value for 90% CI\n",
        "z_critical = stats.norm.ppf(1 - alpha/2)\n",
        "\n"
      ],
      "metadata": {
        "id": "pQGqksMRU1Wf"
      },
      "execution_count": 16,
      "outputs": []
    },
    {
      "cell_type": "code",
      "source": [
        "# Margin of error\n",
        "margin_error_z = z_critical * (pop_std_dev / np.sqrt(n))\n"
      ],
      "metadata": {
        "id": "mI3VwbmuU-tX"
      },
      "execution_count": 17,
      "outputs": []
    },
    {
      "cell_type": "code",
      "source": [
        "# Confidence interval\n",
        "ci_lower_z = mean - margin_error_z\n",
        "ci_upper_z = mean + margin_error_z\n"
      ],
      "metadata": {
        "id": "bDOWFZlrVDPk"
      },
      "execution_count": 18,
      "outputs": []
    },
    {
      "cell_type": "code",
      "source": [
        "print(f\"90% CI using population std dev: ({ci_lower_z:.4f}, {ci_upper_z:.4f})\")\n"
      ],
      "metadata": {
        "colab": {
          "base_uri": "https://localhost:8080/"
        },
        "id": "0iPmgJ2fVIc7",
        "outputId": "f5347542-08ed-4705-c379-4542971312a4"
      },
      "execution_count": 19,
      "outputs": [
        {
          "output_type": "stream",
          "name": "stdout",
          "text": [
            "90% CI using population std dev: (1.2064, 1.3763)\n"
          ]
        }
      ]
    }
  ]
}